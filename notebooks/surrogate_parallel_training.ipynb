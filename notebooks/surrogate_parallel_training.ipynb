{
 "cells": [
  {
   "cell_type": "code",
   "execution_count": null,
   "metadata": {},
   "outputs": [],
   "source": [
    "from typing import Any, Callable, Dict, Tuple\n",
    "\n",
    "import numpy as np\n",
    "import pytorch_lightning as pl\n",
    "import torch\n",
    "import torch.nn as nn\n",
    "import torch.nn.functional as F\n",
    "from sklearn.datasets import fetch_covtype, load_iris\n",
    "from sklearn.preprocessing import MinMaxScaler\n",
    "from torch.utils.data import DataLoader, Dataset, random_split"
   ]
  },
  {
   "attachments": {},
   "cell_type": "markdown",
   "metadata": {},
   "source": [
    "# Model definition\n",
    "\n",
    "We can create a deep linear model and learn Iris dataset."
   ]
  },
  {
   "cell_type": "code",
   "execution_count": null,
   "metadata": {},
   "outputs": [],
   "source": [
    "class DeepLinear(nn.Module):\n",
    "    def __init__(self, in_features: int, out_features: int) -> None:\n",
    "        super(DeepLinear, self).__init__()\n",
    "\n",
    "        self.linear1 = nn.Linear(in_features=in_features, out_features=1024, dtype=torch.float64)\n",
    "        self.linear2 = nn.Linear(in_features=1024, out_features=1024, dtype=torch.float64)\n",
    "        self.linear3 = nn.Linear(in_features=1024, out_features=512, dtype=torch.float64)\n",
    "        self.fc = nn.Linear(in_features=512, out_features=out_features, dtype=torch.float64)\n",
    "\n",
    "    def forward(self, x: torch.Tensor) -> torch.Tensor:\n",
    "        y = self.linear1(x)\n",
    "        y = F.relu(y)\n",
    "        y = self.linear2(y)\n",
    "        y = F.relu(y)\n",
    "        y = self.linear3(y)\n",
    "        y = F.relu(y)\n",
    "        return self.fc(y)"
   ]
  },
  {
   "attachments": {},
   "cell_type": "markdown",
   "metadata": {},
   "source": [
    "# Surrogate definition"
   ]
  },
  {
   "cell_type": "code",
   "execution_count": null,
   "metadata": {},
   "outputs": [],
   "source": [
    "class Surrogate(nn.Module):\n",
    "    def __init__(self, in_features: int, out_features: int) -> None:\n",
    "        super(Surrogate, self).__init__()\n",
    "\n",
    "        self.linear = nn.Linear(in_features=in_features, out_features=out_features, dtype=torch.float64)\n",
    "    \n",
    "    def forward(self, x: torch.Tensor) -> torch.Tensor:\n",
    "        return self.linear(x)"
   ]
  },
  {
   "attachments": {},
   "cell_type": "markdown",
   "metadata": {},
   "source": [
    "# Training interface definition"
   ]
  },
  {
   "cell_type": "code",
   "execution_count": null,
   "metadata": {},
   "outputs": [],
   "source": [
    "class ModelSurrogateParallel(pl.LightningModule):\n",
    "    def __init__(self, in_features: int, out_features: int, loss_function: Callable=F.cross_entropy, optimizer: torch.optim.Optimizer=torch.optim.Adam, \n",
    "               optimizer_params: Dict[str, Any]={'lr': 0.001}, **pl_module) -> None:\n",
    "        super(ModelSurrogateParallel, self).__init__(**pl_module)\n",
    "\n",
    "        self.loss_function = loss_function\n",
    "        self.optimizer = optimizer\n",
    "        self.optimizer_params = optimizer_params\n",
    "        self.save_hyperparameters()\n",
    "\n",
    "        self.deep_linear = DeepLinear(in_features, out_features)\n",
    "        self.surrogate = Surrogate(in_features, out_features)\n",
    "    \n",
    "    def configure_optimizers(self) -> torch.optim.Optimizer:\n",
    "        return self.optimizer(self.parameters(), **self.optimizer_params)\n",
    "\n",
    "    def forward(self, x: torch.Tensor) -> Tuple[torch.Tensor, torch.Tensor]:\n",
    "        y_model = self.deep_linear(x)\n",
    "        y_surrogate = self.surrogate(x)\n",
    "        return y_model, y_surrogate\n",
    "    \n",
    "    def training_step(self, train_batch: Tuple[torch.Tensor, torch.Tensor], batch_idx: int) -> torch.Tensor:\n",
    "        inputs, targets = train_batch\n",
    "        scores_model, scores_surrogate = self.forward(inputs)\n",
    "\n",
    "        targets_model = torch.argmax(torch.softmax(scores_model, 1), 1).detach()\n",
    "\n",
    "        loss_model = self.loss_function(scores_model, targets)\n",
    "        loss_surrogate = self.loss_function(scores_surrogate, targets_model)\n",
    "\n",
    "        self.log('train_loss_model', loss_model)\n",
    "        self.log('train_loss_surrogate', loss_surrogate)\n",
    "        \n",
    "        return loss_model + loss_surrogate\n",
    "    \n",
    "    def validation_step(self, valid_batch: Tuple[torch.Tensor, torch.Tensor], batch_idx: int) -> torch.Tensor:\n",
    "        inputs, targets = valid_batch\n",
    "        scores_model, scores_surrogate = self.forward(inputs)\n",
    "\n",
    "        targets_model = torch.argmax(torch.softmax(scores_model, 1), 1).detach()\n",
    "\n",
    "        loss_model = self.loss_function(scores_model, targets)\n",
    "        loss_surrogate = self.loss_function(scores_surrogate, targets_model)\n",
    "\n",
    "        self.log('valid_loss_model', loss_model)\n",
    "        self.log('valid_loss_surrogate', loss_surrogate)\n",
    "        \n",
    "        return loss_model + loss_surrogate\n",
    "    \n",
    "    def test_step(self, test_batch: Tuple[torch.Tensor, torch.Tensor], batch_idx: int) -> torch.Tensor:\n",
    "        inputs, targets = test_batch\n",
    "        scores_model, scores_surrogate = self.forward(inputs)\n",
    "\n",
    "        targets_model = torch.argmax(torch.softmax(scores_model, 1), 1).detach()\n",
    "\n",
    "        loss_model = self.loss_function(scores_model, targets)\n",
    "        loss_surrogate = self.loss_function(scores_surrogate, targets_model)\n",
    "\n",
    "        self.log('test_loss_model', loss_model)\n",
    "        self.log('test_loss_surrogate', loss_surrogate)\n",
    "        \n",
    "        return loss_model + loss_surrogate\n",
    "    \n",
    "    def predict_step(self, batch: torch.Tensor, batch_idx: int) -> Tuple[torch.Tensor, torch.Tensor]:\n",
    "        if len(batch) == 2:\n",
    "            inputs, _ = batch\n",
    "        else:\n",
    "            inputs = batch\n",
    "        scores_model, scores_surrogate = self.forward(inputs)\n",
    "\n",
    "        y_model = torch.argmax(torch.softmax(scores_model, 1), 1)\n",
    "        y_surrogate = torch.argmax(torch.softmax(scores_surrogate, 1), 1)\n",
    "\n",
    "        return y_model, y_surrogate"
   ]
  },
  {
   "attachments": {},
   "cell_type": "markdown",
   "metadata": {},
   "source": [
    "# Dataset"
   ]
  },
  {
   "cell_type": "code",
   "execution_count": null,
   "metadata": {},
   "outputs": [],
   "source": [
    "class ClassicDataset(Dataset):\n",
    "    def __init__(self, X: torch.Tensor, y: torch.Tensor) -> None:\n",
    "        super(ClassicDataset, self).__init__()\n",
    "        self.X = X\n",
    "        self.y = y\n",
    "    \n",
    "    def __len__(self) -> int:\n",
    "        return len(self.X)\n",
    "    \n",
    "    def __getitem__(self, index) -> Tuple[torch.Tensor, torch.Tensor]:\n",
    "        return self.X[index], self.y[index]"
   ]
  },
  {
   "attachments": {},
   "cell_type": "markdown",
   "metadata": {},
   "source": [
    "# Loading data"
   ]
  },
  {
   "cell_type": "code",
   "execution_count": null,
   "metadata": {},
   "outputs": [],
   "source": [
    "X, y = fetch_covtype(return_X_y=True)\n",
    "\n",
    "X = MinMaxScaler().fit_transform(X)\n",
    "X = torch.DoubleTensor(X)\n",
    "y = torch.LongTensor(y) - 1\n",
    "\n",
    "dataset = ClassicDataset(X, y)\n",
    "\n",
    "train_ratio = 0.8\n",
    "dataset_size = len(dataset)\n",
    "train_size = int(train_ratio * dataset_size)\n",
    "test_size = dataset_size - train_size\n",
    "\n",
    "train_set, test_set = random_split(dataset, [train_size, test_size])\n",
    "\n",
    "train_loader = DataLoader(train_set, batch_size=128, shuffle=True)\n",
    "test_loader = DataLoader(test_set, batch_size=128, shuffle=True)"
   ]
  },
  {
   "attachments": {},
   "cell_type": "markdown",
   "metadata": {},
   "source": [
    "# Training"
   ]
  },
  {
   "cell_type": "code",
   "execution_count": null,
   "metadata": {},
   "outputs": [],
   "source": [
    "network = ModelSurrogateParallel(\n",
    "    in_features=X.shape[1],\n",
    "    out_features=np.unique(y).shape[0]\n",
    ")\n",
    "\n",
    "trainer = pl.Trainer(max_epochs=10, accelerator='gpu')\n",
    "trainer.fit(network, train_dataloaders=train_loader)"
   ]
  },
  {
   "attachments": {},
   "cell_type": "markdown",
   "metadata": {},
   "source": [
    "Notre modèle de substitution entrainé parallèlement aux predictions, arrivent à obtenir environ 71.58% sur le jeu d'entrainement et environ 71.86% sur le jeu de test, au niveau des prédictions similaires."
   ]
  },
  {
   "attachments": {},
   "cell_type": "markdown",
   "metadata": {},
   "source": [
    "## Quel est le modèle le plus performant en exactitude ?\n",
    "\n",
    "Sur les données de test, bien évidemment."
   ]
  },
  {
   "cell_type": "code",
   "execution_count": null,
   "metadata": {},
   "outputs": [],
   "source": [
    "test_targets = []\n",
    "test_model_predictions = []\n",
    "test_surrogate_predictions = []\n",
    "for samples, tgts in test_loader:\n",
    "    lbls_model, lbls_surrogate = network.predict_step(samples, None)\n",
    "    test_model_predictions.append(lbls_model)\n",
    "    test_surrogate_predictions.append(lbls_surrogate)\n",
    "    test_targets.append(tgts)\n",
    "\n",
    "test_targets = torch.hstack(test_targets)\n",
    "test_model_predictions = torch.hstack(test_model_predictions)\n",
    "test_surrogate_predictions = torch.hstack(test_surrogate_predictions)\n",
    "\n",
    "(test_model_predictions == test_targets).sum() / len(test_set) * 100, (test_targets == test_surrogate_predictions).sum() / len(test_set) * 100, (test_model_predictions == test_surrogate_predictions).sum() / len(test_set) * 100"
   ]
  },
  {
   "cell_type": "code",
   "execution_count": null,
   "metadata": {},
   "outputs": [],
   "source": [
    "train_targets = []\n",
    "for _, tgts in train_loader:\n",
    "    train_targets.append(tgts)\n",
    "\n",
    "train_targets = []\n",
    "train_model_predictions = []\n",
    "train_surrogate_predictions = []\n",
    "for samples, tgts in train_loader:\n",
    "    lbls_model, lbls_surrogate = network.predict_step(samples, None)\n",
    "    train_model_predictions.append(lbls_model)\n",
    "    train_surrogate_predictions.append(lbls_surrogate)\n",
    "    train_targets.append(tgts)\n",
    "\n",
    "train_targets = torch.hstack(train_targets)\n",
    "train_model_predictions = torch.hstack(train_model_predictions)\n",
    "train_surrogate_predictions = torch.hstack(train_surrogate_predictions)\n",
    "\n",
    "(train_model_predictions == train_targets).sum() / len(train_set) * 100, (train_targets == train_surrogate_predictions).sum() / len(train_set) * 100, (train_model_predictions == train_surrogate_predictions).sum() / len(train_set) * 100"
   ]
  },
  {
   "cell_type": "code",
   "execution_count": null,
   "metadata": {},
   "outputs": [],
   "source": []
  },
  {
   "cell_type": "code",
   "execution_count": null,
   "metadata": {},
   "outputs": [],
   "source": []
  },
  {
   "cell_type": "code",
   "execution_count": null,
   "metadata": {},
   "outputs": [],
   "source": []
  },
  {
   "cell_type": "code",
   "execution_count": null,
   "metadata": {},
   "outputs": [],
   "source": []
  },
  {
   "cell_type": "code",
   "execution_count": null,
   "metadata": {},
   "outputs": [],
   "source": []
  },
  {
   "cell_type": "code",
   "execution_count": null,
   "metadata": {},
   "outputs": [],
   "source": []
  }
 ],
 "metadata": {
  "kernelspec": {
   "display_name": ".venv",
   "language": "python",
   "name": "python3"
  },
  "language_info": {
   "codemirror_mode": {
    "name": "ipython",
    "version": 3
   },
   "file_extension": ".py",
   "mimetype": "text/x-python",
   "name": "python",
   "nbconvert_exporter": "python",
   "pygments_lexer": "ipython3",
   "version": "3.10.11"
  },
  "orig_nbformat": 4
 },
 "nbformat": 4,
 "nbformat_minor": 2
}
