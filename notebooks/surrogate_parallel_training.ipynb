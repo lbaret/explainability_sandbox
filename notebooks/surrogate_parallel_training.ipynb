{
 "cells": [
  {
   "cell_type": "code",
   "execution_count": null,
   "metadata": {},
   "outputs": [],
   "source": [
    "from typing import Tuple\n",
    "\n",
    "import numpy as np\n",
    "import pytorch_lightning as pl\n",
    "import torch\n",
    "from sklearn.datasets import fetch_covtype\n",
    "from sklearn.preprocessing import MinMaxScaler\n",
    "from src.models.model_surrogate_parallel import ModelSurrogateParallel\n",
    "from src.dataset_handler.classic_dataset import ClassicDataset\n",
    "from torch.utils.data import DataLoader, random_split"
   ]
  },
  {
   "attachments": {},
   "cell_type": "markdown",
   "metadata": {},
   "source": [
    "# Model definition\n",
    "\n",
    "We can create a deep linear model and learn Iris dataset."
   ]
  },
  {
   "attachments": {},
   "cell_type": "markdown",
   "metadata": {},
   "source": [
    "# Loading data"
   ]
  },
  {
   "cell_type": "code",
   "execution_count": null,
   "metadata": {},
   "outputs": [],
   "source": [
    "X, y = fetch_covtype(return_X_y=True)\n",
    "\n",
    "X = MinMaxScaler().fit_transform(X)\n",
    "X = torch.DoubleTensor(X)\n",
    "y = torch.LongTensor(y) - 1\n",
    "\n",
    "dataset = ClassicDataset(X, y)\n",
    "\n",
    "train_ratio = 0.8\n",
    "dataset_size = len(dataset)\n",
    "train_size = int(train_ratio * dataset_size)\n",
    "test_size = dataset_size - train_size\n",
    "\n",
    "train_set, test_set = random_split(dataset, [train_size, test_size])\n",
    "\n",
    "train_loader = DataLoader(train_set, batch_size=128, shuffle=True)\n",
    "test_loader = DataLoader(test_set, batch_size=128, shuffle=True)"
   ]
  },
  {
   "attachments": {},
   "cell_type": "markdown",
   "metadata": {},
   "source": [
    "# Training"
   ]
  },
  {
   "cell_type": "code",
   "execution_count": null,
   "metadata": {},
   "outputs": [],
   "source": [
    "network = ModelSurrogateParallel(\n",
    "    in_features=X.shape[1],\n",
    "    out_features=np.unique(y).shape[0]\n",
    ")\n",
    "\n",
    "trainer = pl.Trainer(max_epochs=10, accelerator='gpu')\n",
    "trainer.fit(network, train_dataloaders=train_loader)"
   ]
  },
  {
   "attachments": {},
   "cell_type": "markdown",
   "metadata": {},
   "source": [
    "Notre modèle de substitution entrainé parallèlement aux predictions, arrivent à obtenir environ 71.58% sur le jeu d'entrainement et environ 71.86% sur le jeu de test, au niveau des prédictions similaires."
   ]
  },
  {
   "attachments": {},
   "cell_type": "markdown",
   "metadata": {},
   "source": [
    "## Quel est le modèle le plus performant en exactitude ?\n",
    "\n",
    "Sur les données de test, bien évidemment."
   ]
  },
  {
   "cell_type": "code",
   "execution_count": null,
   "metadata": {},
   "outputs": [],
   "source": [
    "test_targets = []\n",
    "test_model_predictions = []\n",
    "test_surrogate_predictions = []\n",
    "for samples, tgts in test_loader:\n",
    "    lbls_model, lbls_surrogate = network.predict_step(samples, None)\n",
    "    test_model_predictions.append(lbls_model)\n",
    "    test_surrogate_predictions.append(lbls_surrogate)\n",
    "    test_targets.append(tgts)\n",
    "\n",
    "test_targets = torch.hstack(test_targets)\n",
    "test_model_predictions = torch.hstack(test_model_predictions)\n",
    "test_surrogate_predictions = torch.hstack(test_surrogate_predictions)\n",
    "\n",
    "(test_model_predictions == test_targets).sum() / len(test_set) * 100, (test_targets == test_surrogate_predictions).sum() / len(test_set) * 100, (test_model_predictions == test_surrogate_predictions).sum() / len(test_set) * 100"
   ]
  },
  {
   "cell_type": "code",
   "execution_count": null,
   "metadata": {},
   "outputs": [],
   "source": [
    "train_targets = []\n",
    "for _, tgts in train_loader:\n",
    "    train_targets.append(tgts)\n",
    "\n",
    "train_targets = []\n",
    "train_model_predictions = []\n",
    "train_surrogate_predictions = []\n",
    "for samples, tgts in train_loader:\n",
    "    lbls_model, lbls_surrogate = network.predict_step(samples, None)\n",
    "    train_model_predictions.append(lbls_model)\n",
    "    train_surrogate_predictions.append(lbls_surrogate)\n",
    "    train_targets.append(tgts)\n",
    "\n",
    "train_targets = torch.hstack(train_targets)\n",
    "train_model_predictions = torch.hstack(train_model_predictions)\n",
    "train_surrogate_predictions = torch.hstack(train_surrogate_predictions)\n",
    "\n",
    "(train_model_predictions == train_targets).sum() / len(train_set) * 100, (train_targets == train_surrogate_predictions).sum() / len(train_set) * 100, (train_model_predictions == train_surrogate_predictions).sum() / len(train_set) * 100"
   ]
  },
  {
   "attachments": {},
   "cell_type": "markdown",
   "metadata": {},
   "source": [
    "Je pense qu'il reste plus optimal d'entrainer le modèle surrogate après l'entrainement du modèle de base."
   ]
  },
  {
   "cell_type": "code",
   "execution_count": null,
   "metadata": {},
   "outputs": [],
   "source": []
  },
  {
   "cell_type": "code",
   "execution_count": null,
   "metadata": {},
   "outputs": [],
   "source": []
  },
  {
   "cell_type": "code",
   "execution_count": null,
   "metadata": {},
   "outputs": [],
   "source": []
  },
  {
   "cell_type": "code",
   "execution_count": null,
   "metadata": {},
   "outputs": [],
   "source": []
  },
  {
   "cell_type": "code",
   "execution_count": null,
   "metadata": {},
   "outputs": [],
   "source": []
  },
  {
   "cell_type": "code",
   "execution_count": null,
   "metadata": {},
   "outputs": [],
   "source": []
  }
 ],
 "metadata": {
  "kernelspec": {
   "display_name": ".venv",
   "language": "python",
   "name": "python3"
  },
  "language_info": {
   "codemirror_mode": {
    "name": "ipython",
    "version": 3
   },
   "file_extension": ".py",
   "mimetype": "text/x-python",
   "name": "python",
   "nbconvert_exporter": "python",
   "pygments_lexer": "ipython3",
   "version": "3.10.11"
  },
  "orig_nbformat": 4
 },
 "nbformat": 4,
 "nbformat_minor": 2
}
